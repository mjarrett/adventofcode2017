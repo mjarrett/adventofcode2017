{
 "cells": [
  {
   "cell_type": "markdown",
   "metadata": {},
   "source": [
    "# Part 1\n",
    "\n",
    "```\n",
    "You come upon a very unusual sight; a group of programs here appear to be dancing.\n",
    "\n",
    "There are sixteen programs in total, named a through p. They start by standing in a line: a stands in position 0, b stands in position 1, and so on until p, which stands in position 15.\n",
    "\n",
    "The programs' dance consists of a sequence of dance moves:\n",
    "\n",
    "Spin, written sX, makes X programs move from the end to the front, but maintain their order otherwise. (For example, s3 on abcde produces cdeab).\n",
    "Exchange, written xA/B, makes the programs at positions A and B swap places.\n",
    "Partner, written pA/B, makes the programs named A and B swap places.\n",
    "For example, with only five programs standing in a line (abcde), they could do the following dance:\n",
    "\n",
    "s1, a spin of size 1: eabcd.\n",
    "x3/4, swapping the last two programs: eabdc.\n",
    "pe/b, swapping programs e and b: baedc.\n",
    "After finishing their dance, the programs end up in order baedc.\n",
    "\n",
    "You watch the dance for a while and record their dance moves (your puzzle input). In what order are the programs standing after their dance?\n",
    "```"
   ]
  },
  {
   "cell_type": "code",
   "execution_count": 2,
   "metadata": {
    "collapsed": true
   },
   "outputs": [],
   "source": [
    "# Define functions for each dance move\n",
    "\n",
    "def spin(line,n):\n",
    "    return line[-n:]+line[:-n]\n",
    "\n",
    "def exchange(line,i,j):\n",
    "    ii = line[i]\n",
    "    jj = line[j]\n",
    "    line[i] = jj\n",
    "    line[j] = ii\n",
    "    return line\n",
    "\n",
    "def partner(line,a,b):\n",
    "    i = line.index(a)\n",
    "    j = line.index(b)\n",
    "    return exchange(line,i,j)\n",
    "    "
   ]
  },
  {
   "cell_type": "code",
   "execution_count": 3,
   "metadata": {},
   "outputs": [],
   "source": [
    "from string import ascii_lowercase"
   ]
  },
  {
   "cell_type": "code",
   "execution_count": 4,
   "metadata": {
    "collapsed": true
   },
   "outputs": [],
   "source": [
    "with open('day16.txt') as f:\n",
    "    data = f.read().split(',')\n"
   ]
  },
  {
   "cell_type": "code",
   "execution_count": 5,
   "metadata": {},
   "outputs": [],
   "source": [
    "data = [x.strip() for x in data]"
   ]
  },
  {
   "cell_type": "code",
   "execution_count": 6,
   "metadata": {
    "collapsed": true
   },
   "outputs": [],
   "source": [
    "# Define some logic to interpret each command\n",
    "\n",
    "def process(step,line):\n",
    "    if step[0] == 's':\n",
    "        return spin(line,int(step[1:]))\n",
    "    \n",
    "    elif step[0] == 'p':\n",
    "        pair = step[1:].split('/')\n",
    "        return partner(line,pair[0],pair[1])\n",
    "    \n",
    "    elif step[0] == 'x':\n",
    "        pair = step[1:].split('/')\n",
    "        return exchange(line,int(pair[0]),int(pair[1]))\n",
    "    "
   ]
  },
  {
   "cell_type": "code",
   "execution_count": 7,
   "metadata": {},
   "outputs": [
    {
     "data": {
      "text/plain": [
       "'nlciboghjmfdapek'"
      ]
     },
     "execution_count": 7,
     "metadata": {},
     "output_type": "execute_result"
    }
   ],
   "source": [
    "# Run through steps and print result\n",
    "\n",
    "line = list(ascii_lowercase)[:16]\n",
    "\n",
    "for step in data:\n",
    "    line = process(step,line)\n",
    "''.join(line)"
   ]
  },
  {
   "cell_type": "markdown",
   "metadata": {},
   "source": [
    "# Part 2\n",
    "\n",
    "```\n",
    "Now that you're starting to get a feel for the dance moves, you turn your attention to the dance as a whole.\n",
    "\n",
    "Keeping the positions they ended up in from their previous dance, the programs perform it again and again: including the first dance, a total of one billion (1000000000) times.\n",
    "\n",
    "In the example above, their second dance would begin with the order baedc, and use the same dance moves:\n",
    "\n",
    "s1, a spin of size 1: cbaed.\n",
    "x3/4, swapping the last two programs: cbade.\n",
    "pe/b, swapping programs e and b: ceadb.\n",
    "In what order are the programs standing after their billion dances?\n",
    "```"
   ]
  },
  {
   "cell_type": "code",
   "execution_count": 10,
   "metadata": {},
   "outputs": [
    {
     "name": "stdout",
     "output_type": "stream",
     "text": [
      "63\n",
      "nlciboghmkedpfja\n"
     ]
    }
   ],
   "source": [
    "# Running through a billion cycles takes too long\n",
    "# Instead, we assume the cycle will repeat itself\n",
    "# sooner or later.\n",
    "# When it does, we can calculate how many iterations\n",
    "# we need to run through to fine the billionth \n",
    "# configuration\n",
    "\n",
    "line = list(ascii_lowercase)[:16]\n",
    "dances = 1000000000\n",
    "states = []\n",
    "\n",
    "for dance in range(dances):    \n",
    "    \n",
    "    # If we've seen this configuration before,\n",
    "    # compute the remainder of the cycle\n",
    "    if ''.join(line) in states:\n",
    "        print(dance)\n",
    "        print(states[dances%dance])\n",
    "        break\n",
    "    states.append(''.join(line))\n",
    "\n",
    "    # Otherwise keep running through the dance\n",
    "    for step in data:\n",
    "        line = process(step,line)\n",
    "#''.join(line)"
   ]
  },
  {
   "cell_type": "code",
   "execution_count": null,
   "metadata": {
    "collapsed": true
   },
   "outputs": [],
   "source": []
  }
 ],
 "metadata": {
  "kernelspec": {
   "display_name": "Python 3",
   "language": "python",
   "name": "python3"
  },
  "language_info": {
   "codemirror_mode": {
    "name": "ipython",
    "version": 3
   },
   "file_extension": ".py",
   "mimetype": "text/x-python",
   "name": "python",
   "nbconvert_exporter": "python",
   "pygments_lexer": "ipython3",
   "version": "3.6.0"
  }
 },
 "nbformat": 4,
 "nbformat_minor": 2
}
