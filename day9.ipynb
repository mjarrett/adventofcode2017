{
 "cells": [
  {
   "cell_type": "code",
   "execution_count": 1,
   "metadata": {
    "collapsed": true
   },
   "outputs": [],
   "source": [
    "# Read data in single string\n",
    "\n",
    "with open('day9.txt') as f:\n",
    "    stream = f.read()"
   ]
  },
  {
   "cell_type": "code",
   "execution_count": 2,
   "metadata": {},
   "outputs": [],
   "source": [
    "isGarb = False  # Are we currently in garbage\n",
    "skip = False    # Are we skipping\n",
    "outstream = ''  # Non-skipped, non-garbage chars\n",
    "ngarb = 0       # Number of non-skipped garbage\n",
    "\n",
    "# iterate through stream\n",
    "for c in stream:\n",
    "    \n",
    "    if skip:\n",
    "        skip = False\n",
    "        continue\n",
    "    \n",
    "    \n",
    "    if c == '!':\n",
    "        skip = True\n",
    "        continue\n",
    "    \n",
    "    if not isGarb:\n",
    "        if c == '<':\n",
    "            isGarb = True\n",
    "            continue\n",
    "        outstream += c\n",
    "        \n",
    "    if isGarb:\n",
    "        if c == '>':\n",
    "            isGarb = False\n",
    "        else:\n",
    "            ngarb += 1\n"
   ]
  },
  {
   "cell_type": "code",
   "execution_count": 3,
   "metadata": {},
   "outputs": [],
   "source": [
    "# Iterate through outstream to calculate the score\n",
    "\n",
    "level = 0\n",
    "score = 0\n",
    "for c in outstream:\n",
    "    if c == '{':\n",
    "        level += 1\n",
    "        score += level\n",
    "    if c == '}':\n",
    "        level -= 1\n",
    "    #print(c,level,score)"
   ]
  },
  {
   "cell_type": "code",
   "execution_count": 4,
   "metadata": {},
   "outputs": [
    {
     "data": {
      "text/plain": [
       "15922"
      ]
     },
     "execution_count": 4,
     "metadata": {},
     "output_type": "execute_result"
    }
   ],
   "source": [
    "score"
   ]
  },
  {
   "cell_type": "code",
   "execution_count": 5,
   "metadata": {},
   "outputs": [
    {
     "data": {
      "text/plain": [
       "7314"
      ]
     },
     "execution_count": 5,
     "metadata": {},
     "output_type": "execute_result"
    }
   ],
   "source": [
    "ngarb"
   ]
  },
  {
   "cell_type": "code",
   "execution_count": null,
   "metadata": {
    "collapsed": true
   },
   "outputs": [],
   "source": []
  }
 ],
 "metadata": {
  "kernelspec": {
   "display_name": "Python 3",
   "language": "python",
   "name": "python3"
  },
  "language_info": {
   "codemirror_mode": {
    "name": "ipython",
    "version": 3
   },
   "file_extension": ".py",
   "mimetype": "text/x-python",
   "name": "python",
   "nbconvert_exporter": "python",
   "pygments_lexer": "ipython3",
   "version": "3.6.0"
  }
 },
 "nbformat": 4,
 "nbformat_minor": 2
}
