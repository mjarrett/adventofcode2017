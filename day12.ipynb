{
 "cells": [
  {
   "cell_type": "markdown",
   "metadata": {},
   "source": [
    "# Part 1\n",
    "\n",
    "Walking along the memory banks of the stream, you find a small village that is experiencing a little confusion: some programs can't communicate with each other.\n",
    "\n",
    "Programs in this village communicate using a fixed system of pipes. Messages are passed between programs using these pipes, but most programs aren't connected to each other directly. Instead, programs pass messages between each other until the message reaches the intended recipient.\n",
    "\n",
    "For some reason, though, some of these messages aren't ever reaching their intended recipient, and the programs suspect that some pipes are missing. They would like you to investigate.\n",
    "\n",
    "You walk through the village and record the ID of each program and the IDs with which it can communicate directly (your puzzle input). Each program has one or more programs with which it can communicate, and these pipes are bidirectional; if 8 says it can communicate with 11, then 11 will say it can communicate with 8.\n",
    "\n",
    "You need to figure out how many programs are in the group that contains program ID 0.\n",
    "\n",
    "For example, suppose you go door-to-door like a travelling salesman and record the following list:\n",
    "\n",
    "0 <-> 2\n",
    "1 <-> 1\n",
    "2 <-> 0, 3, 4\n",
    "3 <-> 2, 4\n",
    "4 <-> 2, 3, 6\n",
    "5 <-> 6\n",
    "6 <-> 4, 5\n",
    "In this example, the following programs are in the group that contains program ID 0:\n",
    "\n",
    "Program 0 by definition.\n",
    "Program 2, directly connected to program 0.\n",
    "Program 3 via program 2.\n",
    "Program 4 via program 2.\n",
    "Program 5 via programs 6, then 4, then 2.\n",
    "Program 6 via programs 4, then 2.\n",
    "Therefore, a total of 6 programs are in this group; all but program 1, which has a pipe that connects it to itself.\n",
    "\n",
    "How many programs are in the group that contains program ID 0?"
   ]
  },
  {
   "cell_type": "code",
   "execution_count": 1,
   "metadata": {},
   "outputs": [],
   "source": [
    "# Load input into a graph dictionary\n",
    "\n",
    "with open('day12.txt') as f:\n",
    "    data = f.readlines()\n",
    "data = [x.strip().split(' <-> ') for x in data]\n",
    "data = {int(x[0]):[int(y) for y in x[1].split(',')] for x in data}"
   ]
  },
  {
   "cell_type": "code",
   "execution_count": 2,
   "metadata": {
    "collapsed": true
   },
   "outputs": [],
   "source": [
    "# Define depth-first search to find all connected nodes\n",
    "# for a given starting node\n",
    "\n",
    "def dfs(graph, node, visited):\n",
    "    if node not in visited:\n",
    "        visited.append(node)\n",
    "\n",
    "        for n in graph[node]:\n",
    "            dfs(graph,n, visited)\n",
    "    return visited"
   ]
  },
  {
   "cell_type": "code",
   "execution_count": 3,
   "metadata": {},
   "outputs": [],
   "source": [
    "# Get lists of connected nodes for each starting node\n",
    "\n",
    "results = []\n",
    "for i in data.keys():\n",
    "    results.append(dfs(data,i,visited=[]))\n"
   ]
  },
  {
   "cell_type": "code",
   "execution_count": 4,
   "metadata": {},
   "outputs": [
    {
     "data": {
      "text/plain": [
       "378"
      ]
     },
     "execution_count": 4,
     "metadata": {},
     "output_type": "execute_result"
    }
   ],
   "source": [
    "# Count the number of paths that contain zero\n",
    "\n",
    "sum([0 in x for x in results])"
   ]
  },
  {
   "cell_type": "markdown",
   "metadata": {},
   "source": [
    "# Part 2\n",
    "\n",
    "\n",
    "There are more programs than just the ones in the group containing program ID 0. The rest of them have no way of reaching that group, and still might have no way of reaching each other.\n",
    "\n",
    "A group is a collection of programs that can all communicate via pipes either directly or indirectly. The programs you identified just a moment ago are all part of the same group. Now, they would like you to determine the total number of groups.\n",
    "\n",
    "In the example above, there were 2 groups: one consisting of programs 0,2,3,4,5,6, and the other consisting solely of program 1.\n",
    "\n",
    "How many groups are there in total?"
   ]
  },
  {
   "cell_type": "code",
   "execution_count": 5,
   "metadata": {},
   "outputs": [],
   "source": [
    "# Loop over nodes. Find paths in \"results\"\n",
    "# that are connected to each node. Remove\n",
    "# those paths from \"results\" and \n",
    "# increment the groups counter\n",
    "\n",
    "groups = 0\n",
    "\n",
    "# loop over each node\n",
    "for i in data.keys():\n",
    "\n",
    "    # Boolean list of which keys are connected to the current key\n",
    "    filt = [i in x for x in results]\n",
    "\n",
    "    # If at least 1 other key is connected, increment groups counter\n",
    "    # and remove connected groups from results\n",
    "    if sum(filt) > 0: \n",
    "        groups +=1\n",
    "        filt = [not x for x in filt]\n",
    "        results = [x for x,y in zip(results,filt) if y]\n"
   ]
  },
  {
   "cell_type": "code",
   "execution_count": 6,
   "metadata": {},
   "outputs": [
    {
     "data": {
      "text/plain": [
       "204"
      ]
     },
     "execution_count": 6,
     "metadata": {},
     "output_type": "execute_result"
    }
   ],
   "source": [
    "groups"
   ]
  },
  {
   "cell_type": "code",
   "execution_count": null,
   "metadata": {
    "collapsed": true
   },
   "outputs": [],
   "source": []
  }
 ],
 "metadata": {
  "kernelspec": {
   "display_name": "Python 3",
   "language": "python",
   "name": "python3"
  },
  "language_info": {
   "codemirror_mode": {
    "name": "ipython",
    "version": 3
   },
   "file_extension": ".py",
   "mimetype": "text/x-python",
   "name": "python",
   "nbconvert_exporter": "python",
   "pygments_lexer": "ipython3",
   "version": "3.6.0"
  }
 },
 "nbformat": 4,
 "nbformat_minor": 2
}
