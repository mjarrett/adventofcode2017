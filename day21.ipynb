{
 "cells": [
  {
   "cell_type": "code",
   "execution_count": 4,
   "metadata": {},
   "outputs": [],
   "source": [
    "# Make a rules dictionary for each line in input\n",
    "# This problem is easiest with numpy array,\n",
    "# but arrays aren't hashable. Use array.data.tobytes()\n",
    "# as dictionary key\n",
    "\n",
    "# Using a dictionary is ~100 time faster than looking in \n",
    "# lists and matching arrays\n",
    "\n",
    "def get_rules(data):\n",
    "    rules = {}\n",
    "    for line in data:\n",
    "        line = [x.split('/') for x in line.split(' => ')]\n",
    "        line = [np.array([list(y) for y in x]) for x in line]\n",
    "\n",
    "        liner1 = [np.rot90(x) if i==0 else x for i,x in enumerate(line)]\n",
    "        liner2 = [np.rot90(x,2) if i==0 else x for i,x in enumerate(line)]\n",
    "        liner3 = [np.rot90(x,3) if i==0 else x for i,x in enumerate(line)]\n",
    "\n",
    "        linef = [np.fliplr(x) if i==0 else x for i,x in enumerate(line)]\n",
    "        liner1f = [np.fliplr(x) if i==0 else x for i,x in enumerate(liner1)]\n",
    "        liner2f = [np.fliplr(x) if i==0 else x for i,x in enumerate(liner2)]\n",
    "        liner3f = [np.fliplr(x) if i==0 else x for i,x in enumerate(liner3)]\n",
    "\n",
    "\n",
    "        rules[line[0].data.tobytes()] = line[1]\n",
    "        rules[liner1[0].data.tobytes()] = line[1]\n",
    "        rules[liner2[0].data.tobytes()] = line[1]\n",
    "        rules[liner3[0].data.tobytes()] = line[1]\n",
    "        rules[linef[0].data.tobytes()] = line[1]\n",
    "        rules[liner1f[0].data.tobytes()] = line[1]\n",
    "        rules[liner2f[0].data.tobytes()] = line[1]\n",
    "        rules[liner3f[0].data.tobytes()] = line[1]\n",
    "\n",
    "    return rules"
   ]
  },
  {
   "cell_type": "code",
   "execution_count": 13,
   "metadata": {},
   "outputs": [],
   "source": [
    "# Loop over the sub grids and replace according to rules\n",
    "\n",
    "def get_new_grid(grid,rules):\n",
    "    \n",
    "    size = grid.shape[0]\n",
    "\n",
    "    if size%2 == 0:\n",
    "        n=2\n",
    "        m=3\n",
    "    elif size%3 == 0:\n",
    "        n=3\n",
    "        m=4\n",
    "    else:\n",
    "        raise ValueError\n",
    "        \n",
    "    newgrid = np.zeros((int(m*(size/n)),int(m*(size/n))),np.str)\n",
    "\n",
    "    subgrids = []\n",
    "    for i in range(int(size/n)):\n",
    "        for j in range(int(size/n)):\n",
    "            subgrid = grid[n*i:n*i+n,n*j:n*j+n]\n",
    "            newgrid[m*i:m*i+m,m*j:m*j+m] = rules[subgrid.data.tobytes()]\n",
    "\n",
    "    \n",
    "    return newgrid\n",
    "            "
   ]
  },
  {
   "cell_type": "code",
   "execution_count": 14,
   "metadata": {},
   "outputs": [],
   "source": [
    "# Get rules and starting grid\n",
    "\n",
    "with open('day21.txt') as f:\n",
    "    data = f.readlines()\n",
    "data = [x.strip() for x in data]\n",
    "\n",
    "rules = get_rules(data)\n",
    "\n",
    "grid = np.array([list(x) for x in \".#.\\n..#\\n###\".split()])"
   ]
  },
  {
   "cell_type": "code",
   "execution_count": 15,
   "metadata": {},
   "outputs": [
    {
     "name": "stdout",
     "output_type": "stream",
     "text": [
      "208\n",
      "2480380\n"
     ]
    }
   ],
   "source": [
    "# Run replacement algorithm N times\n",
    "\n",
    "for i in range(19):\n",
    "    if i in [5,18]:\n",
    "        \n",
    "        print(len(grid[grid=='#']))\n",
    "    grid = get_new_grid(grid,rules)\n",
    "    \n"
   ]
  },
  {
   "cell_type": "code",
   "execution_count": null,
   "metadata": {
    "collapsed": true
   },
   "outputs": [],
   "source": []
  }
 ],
 "metadata": {
  "kernelspec": {
   "display_name": "Python 3",
   "language": "python",
   "name": "python3"
  },
  "language_info": {
   "codemirror_mode": {
    "name": "ipython",
    "version": 3
   },
   "file_extension": ".py",
   "mimetype": "text/x-python",
   "name": "python",
   "nbconvert_exporter": "python",
   "pygments_lexer": "ipython3",
   "version": "3.6.0"
  }
 },
 "nbformat": 4,
 "nbformat_minor": 2
}
