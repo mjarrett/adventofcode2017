{
 "cells": [
  {
   "cell_type": "markdown",
   "metadata": {},
   "source": [
    "# Part 1"
   ]
  },
  {
   "cell_type": "code",
   "execution_count": 146,
   "metadata": {
    "collapsed": true
   },
   "outputs": [],
   "source": [
    "# Load Data\n",
    "\n",
    "with open('day18.txt') as f:\n",
    "    data = f.readlines()\n",
    "data = [x.strip().split() for x in data]"
   ]
  },
  {
   "cell_type": "code",
   "execution_count": 22,
   "metadata": {
    "collapsed": true
   },
   "outputs": [],
   "source": [
    "# Assume register names are lowercase alphabet\n",
    "from string import ascii_lowercase"
   ]
  },
  {
   "cell_type": "code",
   "execution_count": 23,
   "metadata": {
    "collapsed": true
   },
   "outputs": [],
   "source": [
    "# Define register\n",
    "register = {x:0 for x in ascii_lowercase}"
   ]
  },
  {
   "cell_type": "code",
   "execution_count": 25,
   "metadata": {
    "collapsed": true
   },
   "outputs": [],
   "source": [
    "# Track sounds played\n",
    "played  = []"
   ]
  },
  {
   "cell_type": "code",
   "execution_count": 26,
   "metadata": {
    "collapsed": true
   },
   "outputs": [],
   "source": [
    "# Get value from register, or int\n",
    "\n",
    "def getvalue(i,register):\n",
    "    try:\n",
    "        return int(i)\n",
    "    except:\n",
    "        return register[i]"
   ]
  },
  {
   "cell_type": "code",
   "execution_count": 27,
   "metadata": {},
   "outputs": [
    {
     "name": "stdout",
     "output_type": "stream",
     "text": [
      "2951\n"
     ]
    }
   ],
   "source": [
    "# Follow instructions until something is played\n",
    "\n",
    "i=0\n",
    "while 0<=i<len(data):\n",
    "    step = data[i]\n",
    "    if step[0] == 'snd':\n",
    "        played.append(register[step[1]])\n",
    "    if step[0] == 'set':\n",
    "        register[step[1]] = getvalue(step[2],register)\n",
    "    if step[0] == 'add':\n",
    "        register[step[1]] += getvalue(step[2],register)\n",
    "    if step[0] == 'mul':\n",
    "        register[step[1]] *= getvalue(step[2],register)\n",
    "    if step[0] == 'mod':\n",
    "        register[step[1]] %= getvalue(step[2],register)\n",
    "    if step[0] == 'rcv' and register[step[1]] != 0:\n",
    "        register[step[1]] = played[-1]\n",
    "        print(played[-1])\n",
    "        break\n",
    "    if step[0] == 'jgz' and register[step[1]] > 0:\n",
    "        i += getvalue(step[2],register) - 1\n",
    "    i += 1\n",
    "        "
   ]
  },
  {
   "cell_type": "markdown",
   "metadata": {},
   "source": [
    "# Part 2"
   ]
  },
  {
   "cell_type": "code",
   "execution_count": 173,
   "metadata": {},
   "outputs": [
    {
     "name": "stdout",
     "output_type": "stream",
     "text": [
      "deadlock\n"
     ]
    },
    {
     "data": {
      "text/plain": [
       "7366"
      ]
     },
     "execution_count": 173,
     "metadata": {},
     "output_type": "execute_result"
    }
   ],
   "source": [
    "# Now we need two indexes, queues, statuses and registers\n",
    "\n",
    "# Loop through instructs for one program until queue is empty and waiting,\n",
    "# then switch to other register and continue\n",
    "\n",
    "# Break when both programs are waiting and queues are empty\n",
    "\n",
    "i = [0,0]\n",
    "queues = [[],[]]\n",
    "status = ['good','good']\n",
    "registers = [{x:0 for x in ascii_lowercase},{x:0 for x in ascii_lowercase}]\n",
    "\n",
    "active = 0\n",
    "\n",
    "registers[0]['p'] = 0\n",
    "registers[1]['p'] = 1\n",
    "registers[0]['send'] = 0\n",
    "registers[1]['send'] = 0\n",
    "\n",
    "while True:\n",
    "    \n",
    "    # Deadlock condition\n",
    "    if status[active] == 'waiting' and len(queues[active])>0:\n",
    "        status[active] == 'good'\n",
    "    elif status[0] == 'waiting' and status[1] == 'waiting' and len(queues[0])==0 and len(queues[1])==0:\n",
    "        print('deadlock')\n",
    "        break\n",
    "      \n",
    "    # Break if index outside list\n",
    "    if (len(data) < i[0] < 0) or ((len(data) < i[1] < 0)):\n",
    "        break\n",
    "    \n",
    "    # Get current step\n",
    "    step = data[i[active]]\n",
    "    \n",
    "\n",
    "    # Parse instructions\n",
    "    if step[0] == 'snd':\n",
    "        queues[int(not active)].append(getvalue(step[1],registers[active]))\n",
    "        registers[active]['send'] += 1\n",
    "        \n",
    "    if step[0] == 'set':\n",
    "        registers[active][step[1]] = getvalue(step[2],registers[active])\n",
    "    if step[0] == 'add':\n",
    "        registers[active][step[1]] += getvalue(step[2],registers[active])\n",
    "    if step[0] == 'mul':\n",
    "        registers[active][step[1]] *= getvalue(step[2],registers[active])\n",
    "    if step[0] == 'mod':\n",
    "        registers[active][step[1]] %= getvalue(step[2],registers[active])\n",
    "    if step[0] == 'jgz' and getvalue(step[1],registers[active]) > 0:\n",
    "        i[active] += getvalue(step[2],registers[active])-1\n",
    "    if step[0] == 'rcv':\n",
    "        if len(queues[active])>0:\n",
    "            registers[active][step[1]] = queues[active].pop(0)\n",
    "        else:\n",
    "            # If waiting, switch to other program\n",
    "            status[active] = 'waiting'\n",
    "            active = int(not active) \n",
    "            i[active] -= 1\n",
    "\n",
    "\n",
    "    \n",
    "        \n",
    "    # Incrememnt instruction\n",
    "    i[active] += 1\n",
    "\n",
    "    \n",
    "    \n",
    "\n",
    "        \n",
    "registers[1]['send']"
   ]
  }
 ],
 "metadata": {
  "kernelspec": {
   "display_name": "Python 3",
   "language": "python",
   "name": "python3"
  },
  "language_info": {
   "codemirror_mode": {
    "name": "ipython",
    "version": 3
   },
   "file_extension": ".py",
   "mimetype": "text/x-python",
   "name": "python",
   "nbconvert_exporter": "python",
   "pygments_lexer": "ipython3",
   "version": "3.6.0"
  }
 },
 "nbformat": 4,
 "nbformat_minor": 2
}
