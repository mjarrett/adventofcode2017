{
 "cells": [
  {
   "cell_type": "markdown",
   "metadata": {},
   "source": [
    "# Part 1\n",
    "\n",
    "```\n",
    "\n",
    "Suddenly, a scheduled job activates the system's disk defragmenter. Were the situation different, you might sit and watch it for a while, but today, you just don't have that kind of time. It's soaking up valuable system resources that are needed elsewhere, and so the only option is to help it finish its task as soon as possible.\n",
    "\n",
    "The disk in question consists of a 128x128 grid; each square of the grid is either free or used. On this disk, the state of the grid is tracked by the bits in a sequence of knot hashes.\n",
    "\n",
    "A total of 128 knot hashes are calculated, each corresponding to a single row in the grid; each hash contains 128 bits which correspond to individual grid squares. Each bit of a hash indicates whether that square is free (0) or used (1).\n",
    "\n",
    "The hash inputs are a key string (your puzzle input), a dash, and a number from 0 to 127 corresponding to the row. For example, if your key string were flqrgnkx, then the first row would be given by the bits of the knot hash of flqrgnkx-0, the second row from the bits of the knot hash of flqrgnkx-1, and so on until the last row, flqrgnkx-127.\n",
    "\n",
    "The output of a knot hash is traditionally represented by 32 hexadecimal digits; each of these digits correspond to 4 bits, for a total of 4 * 32 = 128 bits. To convert to bits, turn each hexadecimal digit to its equivalent binary value, high-bit first: 0 becomes 0000, 1 becomes 0001, e becomes 1110, f becomes 1111, and so on; a hash that begins with a0c2017... in hexadecimal would begin with 10100000110000100000000101110000... in binary.\n",
    "\n",
    "Continuing this process, the first 8 rows and columns for key flqrgnkx appear as follows, using # to denote used squares, and . to denote free ones:\n",
    "\n",
    "##.#.#..-->\n",
    ".#.#.#.#   \n",
    "....#.#.   \n",
    "#.#.##.#   \n",
    ".##.#...   \n",
    "##..#..#   \n",
    ".#...#..   \n",
    "##.#.##.-->\n",
    "|      |   \n",
    "V      V   \n",
    "In this example, 8108 squares are used across the entire 128x128 grid.\n",
    "\n",
    "Given your actual key string, how many squares are used?\n",
    "```"
   ]
  },
  {
   "cell_type": "markdown",
   "metadata": {},
   "source": [
    "## Get knot hash algorithm from day 10"
   ]
  },
  {
   "cell_type": "code",
   "execution_count": 4,
   "metadata": {
    "collapsed": true
   },
   "outputs": [],
   "source": [
    "# Function that reverse a segment of length \"length\" \n",
    "# of array \"data\" starting at index \"i\"\n",
    "\n",
    "def reverser(data,i,length):\n",
    "    arr = data.copy()\n",
    "    if length > len(arr):\n",
    "        raise ValueError('length cannot be longer than list length')\n",
    "    \n",
    "    if length < len(arr)-i+1:\n",
    "        segment = arr[i:i+length]\n",
    "        arr[i:i+length] = segment[::-1]\n",
    "        \n",
    "    else:\n",
    "        lenprewrap = len(arr[i:])\n",
    "        lenpostwrap = len(arr[:length-len(arr)+i])\n",
    "        segment = arr[i:]+arr[:length-len(arr)+i]\n",
    "        segment = segment[::-1]\n",
    "        arr[i:] = segment[:lenprewrap]\n",
    "        arr[:length-len(arr)+i] = segment[lenprewrap:]\n",
    "\n",
    "    return arr"
   ]
  },
  {
   "cell_type": "code",
   "execution_count": 5,
   "metadata": {
    "collapsed": true
   },
   "outputs": [],
   "source": [
    "def run_cycle(lengths,n):\n",
    "    data = [x for x in range(256)]\n",
    "    i = 0\n",
    "    skipsize = 0\n",
    "    for j in range(n):\n",
    "        for length in lengths:\n",
    "            data = reverser(data,i,length)\n",
    "            skip = (length+skipsize)%len(data)\n",
    "            if skip>len(data)-i:\n",
    "                i = skip-(len(data)-i)\n",
    "            else:\n",
    "                i += skip\n",
    "            skipsize += 1\n",
    "    return data"
   ]
  },
  {
   "cell_type": "code",
   "execution_count": 6,
   "metadata": {
    "collapsed": true
   },
   "outputs": [],
   "source": [
    "def bitwiseor(arr):\n",
    "    v = 0\n",
    "    for a in arr:\n",
    "        v = v^a\n",
    "    return v"
   ]
  },
  {
   "cell_type": "code",
   "execution_count": 7,
   "metadata": {},
   "outputs": [],
   "source": [
    "def knothash(s):\n",
    "    lengths = [ord(x) for x in s] + [17, 31, 73, 47, 23]\n",
    "\n",
    "    sparse = run_cycle(lengths,64)\n",
    "    densehash = [bitwiseor(sparse[16*i:16*(i+1)]) for i in range(16)]\n",
    "    densehex = ''.join(['{:02x}'.format(x) for x in densehash])\n",
    "\n",
    "    # Modified to return 128 bit binary instead of hex\n",
    "    return bin(int(densehex,16))[2:].zfill(128)\n"
   ]
  },
  {
   "cell_type": "code",
   "execution_count": 8,
   "metadata": {
    "collapsed": true
   },
   "outputs": [],
   "source": [
    "data = 'jzgqcdpd'"
   ]
  },
  {
   "cell_type": "code",
   "execution_count": 9,
   "metadata": {},
   "outputs": [],
   "source": [
    "# List of lists with binary numbers as integers\n",
    "\n",
    "arr = [list(knothash('{}-{}'.format(data,x))) for x in range(128)]\n",
    "\n",
    "arr = [[int(y) for y in x] for x in arr]"
   ]
  },
  {
   "cell_type": "code",
   "execution_count": 10,
   "metadata": {},
   "outputs": [],
   "source": [
    "# convert to numpy array\n",
    "arr = np.array(arr)"
   ]
  },
  {
   "cell_type": "code",
   "execution_count": 11,
   "metadata": {},
   "outputs": [
    {
     "data": {
      "text/plain": [
       "8074"
      ]
     },
     "execution_count": 11,
     "metadata": {},
     "output_type": "execute_result"
    }
   ],
   "source": [
    "arr.sum()"
   ]
  },
  {
   "cell_type": "markdown",
   "metadata": {},
   "source": [
    "```\n",
    "Now, all the defragmenter needs to know is the number of regions. A region is a group of used squares that are all adjacent, not including diagonals. Every used square is in exactly one region: lone used squares form their own isolated regions, while several adjacent squares all count as a single region.\n",
    "\n",
    "In the example above, the following nine regions are visible, each marked with a distinct digit:\n",
    "\n",
    "11.2.3..-->\n",
    ".1.2.3.4   \n",
    "....5.6.   \n",
    "7.8.55.9   \n",
    ".88.5...   \n",
    "88..5..8   \n",
    ".8...8..   \n",
    "88.8.88.-->\n",
    "|      |   \n",
    "V      V   \n",
    "Of particular interest is the region marked 8; while it does not appear contiguous in this small view, all of the squares marked 8 are connected when considering the whole 128x128 grid. In total, in this example, 1242 regions are present.\n",
    "\n",
    "How many regions are present given your key string?\n",
    "```"
   ]
  },
  {
   "cell_type": "code",
   "execution_count": 13,
   "metadata": {
    "collapsed": true
   },
   "outputs": [],
   "source": [
    "# From image processing, I know a function\n",
    "# that pulls out objects from a binary array\n",
    "\n",
    "from scipy.ndimage.measurements import label"
   ]
  },
  {
   "cell_type": "code",
   "execution_count": 14,
   "metadata": {},
   "outputs": [],
   "source": [
    "mask,n = label(arr)"
   ]
  },
  {
   "cell_type": "code",
   "execution_count": 15,
   "metadata": {},
   "outputs": [
    {
     "data": {
      "text/plain": [
       "1212"
      ]
     },
     "execution_count": 15,
     "metadata": {},
     "output_type": "execute_result"
    }
   ],
   "source": [
    "n"
   ]
  },
  {
   "cell_type": "code",
   "execution_count": null,
   "metadata": {
    "collapsed": true
   },
   "outputs": [],
   "source": []
  }
 ],
 "metadata": {
  "kernelspec": {
   "display_name": "Python 3",
   "language": "python",
   "name": "python3"
  },
  "language_info": {
   "codemirror_mode": {
    "name": "ipython",
    "version": 3
   },
   "file_extension": ".py",
   "mimetype": "text/x-python",
   "name": "python",
   "nbconvert_exporter": "python",
   "pygments_lexer": "ipython3",
   "version": "3.6.0"
  }
 },
 "nbformat": 4,
 "nbformat_minor": 2
}
