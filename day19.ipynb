{
 "cells": [
  {
   "cell_type": "markdown",
   "metadata": {},
   "source": [
    "# Part 1\n",
    "\n",
    "```\n",
    "\n",
    "Somehow, a network packet got lost and ended up here. It's trying to follow a routing diagram (your puzzle input), but it's confused about where to go.\n",
    "\n",
    "Its starting point is just off the top of the diagram. Lines (drawn with |, -, and +) show the path it needs to take, starting by going down onto the only line connected to the top of the diagram. It needs to follow this path until it reaches the end (located somewhere within the diagram) and stop there.\n",
    "\n",
    "Sometimes, the lines cross over each other; in these cases, it needs to continue going the same direction, and only turn left or right when there's no other option. In addition, someone has left letters on the line; these also don't change its direction, but it can use them to keep track of where it's been. For example:\n",
    "\n",
    "     |          \n",
    "     |  +--+    \n",
    "     A  |  C    \n",
    " F---|----E|--+ \n",
    "     |  |  |  D \n",
    "     +B-+  +--+ \n",
    "\n",
    "Given this diagram, the packet needs to take the following path:\n",
    "\n",
    "Starting at the only line touching the top of the diagram, it must go down, pass through A, and continue onward to the first +.\n",
    "Travel right, up, and right, passing through B in the process.\n",
    "Continue down (collecting C), right, and up (collecting D).\n",
    "Finally, go all the way left through E and stopping at F.\n",
    "Following the path to the end, the letters it sees on its path are ABCDEF.\n",
    "\n",
    "The little packet looks up at you, hoping you can help it find the way. What letters will it see (in the order it would see them) if it follows the path? (The routing diagram is very wide; make sure you view it without line wrapping.)\n",
    "\n",
    "\n",
    "```"
   ]
  },
  {
   "cell_type": "code",
   "execution_count": 2,
   "metadata": {
    "collapsed": true
   },
   "outputs": [],
   "source": [
    "# Load data\n",
    "with open('day19.txt') as f:\n",
    "    data = f.read().split('\\n')\n",
    "data = [list(x) for x in data]"
   ]
  },
  {
   "cell_type": "code",
   "execution_count": 3,
   "metadata": {
    "collapsed": true
   },
   "outputs": [],
   "source": [
    "# Trailing whitespace gets cutoff, so zero pad all lines \n",
    "m = max([len(x) for x in data])\n",
    "\n",
    "for line in data:\n",
    "    line += [''] * (m - len(line))"
   ]
  },
  {
   "cell_type": "code",
   "execution_count": 4,
   "metadata": {},
   "outputs": [],
   "source": [
    "# Find starting cell\n",
    "\n",
    "start = (0,data[0].index('|'))"
   ]
  },
  {
   "cell_type": "code",
   "execution_count": 5,
   "metadata": {
    "collapsed": true
   },
   "outputs": [],
   "source": [
    "# For easier indexing, use a numpy array\n",
    "\n",
    "grid = np.array(data)"
   ]
  },
  {
   "cell_type": "code",
   "execution_count": 6,
   "metadata": {
    "collapsed": true
   },
   "outputs": [],
   "source": [
    "# Not sure what letters we'll find, so get all of them\n",
    "\n",
    "from string import ascii_uppercase"
   ]
  },
  {
   "cell_type": "code",
   "execution_count": 7,
   "metadata": {},
   "outputs": [],
   "source": [
    "# Function to find next cell. Continue along\n",
    "# straight line unless you can't, in which \n",
    "# case turn. No backtracking though\n",
    "\n",
    "def findnext(current,d,grid):\n",
    "    goodchars = ['|','-','+']+list(ascii_uppercase)\n",
    "    \n",
    "    cell = tuple(map(np.add,current,d))\n",
    "    if 0<=cell[0]<grid.shape[0] and 0<=cell[1]<grid.shape[1] and grid[cell] in goodchars:\n",
    "        #print(cell,d)\n",
    "        return cell,d,grid[cell]\n",
    "        \n",
    "    else:\n",
    "        nds = [(0,1),(1,0),(0,-1),(-1,0)]\n",
    "        nds.remove((-d[0],-d[1]))\n",
    "        \n",
    "        result = (-1,-1),(0,0)\n",
    "        for nd in nds:\n",
    "            #print(nd)\n",
    "            cell = tuple(map(np.add,current,nd))\n",
    "            if 0<=cell[0]<grid.shape[0] and 0<=cell[1]<grid.shape[1] and grid[cell] in goodchars:\n",
    "                return cell,nd,grid[cell]\n",
    "       \n",
    "\n",
    "        "
   ]
  },
  {
   "cell_type": "code",
   "execution_count": 8,
   "metadata": {},
   "outputs": [
    {
     "ename": "TypeError",
     "evalue": "'NoneType' object is not iterable",
     "output_type": "error",
     "traceback": [
      "\u001b[0;31m---------------------------------------------------------------------------\u001b[0m",
      "\u001b[0;31mTypeError\u001b[0m                                 Traceback (most recent call last)",
      "\u001b[0;32m<ipython-input-8-d8abd75c0d54>\u001b[0m in \u001b[0;36m<module>\u001b[0;34m()\u001b[0m\n\u001b[1;32m      8\u001b[0m \u001b[0;34m\u001b[0m\u001b[0m\n\u001b[1;32m      9\u001b[0m \u001b[0;32mwhile\u001b[0m \u001b[0mcurrent\u001b[0m \u001b[0;34m!=\u001b[0m \u001b[0;34m(\u001b[0m\u001b[0;34m-\u001b[0m\u001b[0;36m1\u001b[0m\u001b[0;34m,\u001b[0m\u001b[0;34m-\u001b[0m\u001b[0;36m1\u001b[0m\u001b[0;34m)\u001b[0m\u001b[0;34m:\u001b[0m\u001b[0;34m\u001b[0m\u001b[0m\n\u001b[0;32m---> 10\u001b[0;31m     \u001b[0mcurrent\u001b[0m\u001b[0;34m,\u001b[0m\u001b[0md\u001b[0m\u001b[0;34m,\u001b[0m\u001b[0mc\u001b[0m \u001b[0;34m=\u001b[0m \u001b[0mfindnext\u001b[0m\u001b[0;34m(\u001b[0m\u001b[0mcurrent\u001b[0m\u001b[0;34m,\u001b[0m\u001b[0md\u001b[0m\u001b[0;34m,\u001b[0m\u001b[0mgrid\u001b[0m\u001b[0;34m)\u001b[0m\u001b[0;34m\u001b[0m\u001b[0m\n\u001b[0m\u001b[1;32m     11\u001b[0m     \u001b[0;32mif\u001b[0m \u001b[0mc\u001b[0m \u001b[0;32min\u001b[0m \u001b[0mascii_uppercase\u001b[0m\u001b[0;34m:\u001b[0m\u001b[0;34m\u001b[0m\u001b[0m\n\u001b[1;32m     12\u001b[0m         \u001b[0mletters\u001b[0m\u001b[0;34m.\u001b[0m\u001b[0mappend\u001b[0m\u001b[0;34m(\u001b[0m\u001b[0mc\u001b[0m\u001b[0;34m)\u001b[0m\u001b[0;34m\u001b[0m\u001b[0m\n",
      "\u001b[0;31mTypeError\u001b[0m: 'NoneType' object is not iterable"
     ]
    }
   ],
   "source": [
    "# Run through grid until you can't anymore\n",
    "\n",
    "current = start\n",
    "d = (1,0)\n",
    "letters = []\n",
    "steps = 0\n",
    "#print(current,d,grid[current])\n",
    "\n",
    "while current != (-1,-1):\n",
    "    current,d,c = findnext(current,d,grid)\n",
    "    if c in ascii_uppercase:\n",
    "        letters.append(c)\n",
    "    steps += 1"
   ]
  },
  {
   "cell_type": "code",
   "execution_count": 9,
   "metadata": {},
   "outputs": [
    {
     "data": {
      "text/plain": [
       "'GINOWKYXH'"
      ]
     },
     "execution_count": 9,
     "metadata": {},
     "output_type": "execute_result"
    }
   ],
   "source": [
    "''.join(letters)"
   ]
  },
  {
   "cell_type": "markdown",
   "metadata": {},
   "source": [
    "# Part 2\n",
    "\n",
    "```\n",
    "The packet is curious how many steps it needs to go.\n",
    "\n",
    "For example, using the same routing diagram from the example above...\n",
    "\n",
    "     |          \n",
    "     |  +--+    \n",
    "     A  |  C    \n",
    " F---|--|-E---+ \n",
    "     |  |  |  D \n",
    "     +B-+  +--+ \n",
    "\n",
    "...the packet would go:\n",
    "\n",
    "6 steps down (including the first line at the top of the diagram).\n",
    "3 steps right.\n",
    "4 steps up.\n",
    "3 steps right.\n",
    "4 steps down.\n",
    "3 steps right.\n",
    "2 steps up.\n",
    "13 steps left (including the F it stops on).\n",
    "This would result in a total of 38 steps.\n",
    "\n",
    "How many steps does the packet need to go?\n",
    "```"
   ]
  },
  {
   "cell_type": "code",
   "execution_count": 10,
   "metadata": {},
   "outputs": [
    {
     "data": {
      "text/plain": [
       "16636"
      ]
     },
     "execution_count": 10,
     "metadata": {},
     "output_type": "execute_result"
    }
   ],
   "source": [
    "steps+1"
   ]
  },
  {
   "cell_type": "code",
   "execution_count": null,
   "metadata": {
    "collapsed": true
   },
   "outputs": [],
   "source": []
  }
 ],
 "metadata": {
  "kernelspec": {
   "display_name": "Python 3",
   "language": "python",
   "name": "python3"
  },
  "language_info": {
   "codemirror_mode": {
    "name": "ipython",
    "version": 3
   },
   "file_extension": ".py",
   "mimetype": "text/x-python",
   "name": "python",
   "nbconvert_exporter": "python",
   "pygments_lexer": "ipython3",
   "version": "3.6.0"
  }
 },
 "nbformat": 4,
 "nbformat_minor": 2
}
