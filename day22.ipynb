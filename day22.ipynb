{
 "cells": [
  {
   "cell_type": "code",
   "execution_count": 45,
   "metadata": {
    "collapsed": true
   },
   "outputs": [],
   "source": [
    "# Let's use a deque instead of a list for this problem\n",
    "# because of its rotate method\n",
    "# We'll also use a default dictionary so we don't\n",
    "# have to explicitely set cells in the sparse matrix\n",
    "# to False/'.'\n",
    "\n",
    "from collections import defaultdict,deque"
   ]
  },
  {
   "cell_type": "code",
   "execution_count": 69,
   "metadata": {},
   "outputs": [],
   "source": [
    "# Function to import input into a dictionary\n",
    "# Infect cells are True, otherwise False\n",
    "# \"ds\" is a list of directions. Rotate\n",
    "# +1/-1 so the first element turns left/right\n",
    "\n",
    "def get_data():\n",
    "    with open('day22.txt') as f:\n",
    "        data = [list(x.strip()) for x in f.readlines()]\n",
    "\n",
    "    data = np.array(data)\n",
    "\n",
    "    grid = defaultdict(bool)\n",
    "    for x in range(data.shape[0]):\n",
    "        for y in range(data.shape[1]):\n",
    "            if data[x,y] == '#':\n",
    "                grid[(x,y)]=True\n",
    "            else: grid[x,y] = False\n",
    "\n",
    "    cell = (int(data.shape[0]/2),int(data.shape[1]/2))\n",
    "\n",
    "    ds = deque([(-1,0),(0,1),(1,0),(0,-1)])  # Turn right -, turn left +\n",
    "    \n",
    "    count = 0\n",
    "    return cell,grid,ds,count"
   ]
  },
  {
   "cell_type": "code",
   "execution_count": 70,
   "metadata": {},
   "outputs": [],
   "source": [
    "# Function to move to a new cell\n",
    "# and change the state of the old\n",
    "# cell and update direction\n",
    "\n",
    "def move(cell,grid,ds,count):\n",
    "    \n",
    "    if grid[cell]:\n",
    "        ds.rotate(-1)\n",
    "    else:\n",
    "        ds.rotate(1)\n",
    "        count += 1\n",
    "        \n",
    "    grid[cell] = not grid[cell]\n",
    "    \n",
    "    newcell = tuple(map(np.add,cell,ds[0]))\n",
    "    \n",
    "    return newcell,grid,ds,count"
   ]
  },
  {
   "cell_type": "code",
   "execution_count": 71,
   "metadata": {},
   "outputs": [
    {
     "name": "stdout",
     "output_type": "stream",
     "text": [
      "5348\n"
     ]
    }
   ],
   "source": [
    "# Run through 10000 iterations\n",
    "\n",
    "cell,grid,ds,count = get_data()\n",
    "\n",
    "\n",
    "for i in range(10000):\n",
    "    cell,grid,ds,count = move(cell,grid,ds,count)\n",
    "print(count)"
   ]
  },
  {
   "cell_type": "markdown",
   "metadata": {},
   "source": [
    "# Part 2"
   ]
  },
  {
   "cell_type": "code",
   "execution_count": 83,
   "metadata": {
    "collapsed": true
   },
   "outputs": [],
   "source": [
    "# Can't use booleans anymore, rewrite\n",
    "# the dictionary to use '#' for infected \n",
    "# and '' for healthy\n",
    "\n",
    "def get_data2():\n",
    "    #with open('day22_test.txt') as f:\n",
    "    with open('day22.txt') as f:\n",
    "        data = [list(x.strip()) for x in f.readlines()]\n",
    "\n",
    "    data = np.array(data)\n",
    "\n",
    "    grid = defaultdict(str)\n",
    "    for x in range(data.shape[0]):\n",
    "        for y in range(data.shape[1]):\n",
    "            if data[x,y] == '#':\n",
    "                grid[(x,y)]='#'\n",
    "\n",
    "    cell = (int(data.shape[0]/2),int(data.shape[1]/2))\n",
    "\n",
    "    ds = deque([(-1,0),(0,1),(1,0),(0,-1)])  # Turn right -, turn left +\n",
    "    \n",
    "    count = 0\n",
    "    return cell,grid,ds,count"
   ]
  },
  {
   "cell_type": "code",
   "execution_count": 84,
   "metadata": {
    "collapsed": true
   },
   "outputs": [],
   "source": [
    "# Update logic. rotate(2) reverses\n",
    "# direction\n",
    "\n",
    "def move2(cell,grid,ds,count):\n",
    "    \n",
    "    if grid[cell] == '#':\n",
    "        ds.rotate(-1)\n",
    "        grid[cell] = 'F'\n",
    "        \n",
    "    elif grid[cell] == '':\n",
    "        ds.rotate(1)\n",
    "        grid[cell] = 'W'\n",
    "        \n",
    "    elif grid[cell] == 'W':\n",
    "        grid[cell] = '#'\n",
    "        count += 1\n",
    "        \n",
    "    elif grid[cell] == 'F':\n",
    "        ds.rotate(2)\n",
    "        grid[cell] = ''\n",
    "        \n",
    "    \n",
    "    newcell = tuple(map(np.add,cell,ds[0]))\n",
    "    \n",
    "    return newcell,grid,ds,count"
   ]
  },
  {
   "cell_type": "code",
   "execution_count": 85,
   "metadata": {},
   "outputs": [
    {
     "name": "stdout",
     "output_type": "stream",
     "text": [
      "2512225\n"
     ]
    }
   ],
   "source": [
    "# run 10000000 iterations with new logic\n",
    "\n",
    "cell,grid,ds,count = get_data2()\n",
    "for i in range(10000000):\n",
    "    cell,grid,ds,count = move2(cell,grid,ds,count)\n",
    "print(count)"
   ]
  },
  {
   "cell_type": "code",
   "execution_count": null,
   "metadata": {
    "collapsed": true
   },
   "outputs": [],
   "source": []
  }
 ],
 "metadata": {
  "kernelspec": {
   "display_name": "Python 3",
   "language": "python",
   "name": "python3"
  },
  "language_info": {
   "codemirror_mode": {
    "name": "ipython",
    "version": 3
   },
   "file_extension": ".py",
   "mimetype": "text/x-python",
   "name": "python",
   "nbconvert_exporter": "python",
   "pygments_lexer": "ipython3",
   "version": "3.6.0"
  }
 },
 "nbformat": 4,
 "nbformat_minor": 2
}
