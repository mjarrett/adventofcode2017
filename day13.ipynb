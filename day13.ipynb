{
 "cells": [
  {
   "cell_type": "code",
   "execution_count": 18,
   "metadata": {
    "collapsed": true
   },
   "outputs": [],
   "source": []
  },
  {
   "cell_type": "code",
   "execution_count": 24,
   "metadata": {
    "collapsed": true
   },
   "outputs": [],
   "source": [
    "def move_scanner(t):\n",
    "    if t[2] == 0:\n",
    "        index = t[0]+1\n",
    "    elif t[2] == 1:\n",
    "        index = t[0]-1\n",
    "        \n",
    "    if index == t[1]:\n",
    "        direction = 1\n",
    "    elif index == 1:\n",
    "        direction = 0\n",
    "    else:\n",
    "        direction = t[2]\n",
    "        \n",
    "    return (index,t[1],direction)"
   ]
  },
  {
   "cell_type": "code",
   "execution_count": 33,
   "metadata": {},
   "outputs": [],
   "source": [
    "def move_scanners(data):\n",
    "    return {x:move_scanner(y) for x,y in data.items()}"
   ]
  },
  {
   "cell_type": "code",
   "execution_count": 35,
   "metadata": {
    "collapsed": true
   },
   "outputs": [],
   "source": []
  },
  {
   "cell_type": "code",
   "execution_count": 61,
   "metadata": {
    "collapsed": true
   },
   "outputs": [],
   "source": [
    "with open('day13.txt') as f:\n",
    "    data = f.readlines()\n",
    "data = [x.strip().split(':') for x in data]\n",
    "\n",
    "#data = {int(x[0]):[1]+[0]*(int(x[1])-1) for x in data}\n",
    "data = {int(x[0]):(1,int(x[1]),0) for x in data}\n",
    "steps = max(data.keys())"
   ]
  },
  {
   "cell_type": "code",
   "execution_count": 62,
   "metadata": {},
   "outputs": [],
   "source": [
    "severity = 0\n",
    "for step in range(steps+1):\n",
    "    #print(severity)\n",
    "    if step in data.keys() and data[step][0] == 1:\n",
    "        severity += step*data[step][1]\n",
    "    \n",
    "    data = move_scanners(data)\n",
    "\n",
    "\n",
    "    \n",
    "    "
   ]
  },
  {
   "cell_type": "code",
   "execution_count": 63,
   "metadata": {},
   "outputs": [
    {
     "data": {
      "text/plain": [
       "632"
      ]
     },
     "execution_count": 63,
     "metadata": {},
     "output_type": "execute_result"
    }
   ],
   "source": [
    "severity"
   ]
  },
  {
   "cell_type": "markdown",
   "metadata": {},
   "source": [
    "# Part 2"
   ]
  },
  {
   "cell_type": "code",
   "execution_count": 74,
   "metadata": {},
   "outputs": [],
   "source": [
    "def check_delay(data,steps):\n",
    "    for step in range(steps+1):\n",
    "        if step in data.keys() and data[step][0] == 1:\n",
    "            return False\n",
    "\n",
    "        data = move_scanners(data)\n",
    "        \n",
    "    return True"
   ]
  },
  {
   "cell_type": "code",
   "execution_count": 101,
   "metadata": {
    "collapsed": true
   },
   "outputs": [],
   "source": [
    "with open('day13.txt') as f:\n",
    "    data = f.readlines()\n",
    "data = [x.strip().split(':') for x in data]\n",
    "\n",
    "#data = {int(x[0]):[1]+[0]*(int(x[1])-1) for x in data}\n",
    "data = {int(x[0]):(1,int(x[1]),0) for x in data}\n",
    "steps = max(data.keys())"
   ]
  },
  {
   "cell_type": "code",
   "execution_count": 102,
   "metadata": {},
   "outputs": [
    {
     "name": "stdout",
     "output_type": "stream",
     "text": [
      "3849742\n"
     ]
    }
   ],
   "source": [
    "i=0\n",
    "while True:\n",
    "    #print(i)\n",
    "    if check_delay(data,steps):\n",
    "        print(i)\n",
    "        break\n",
    "    data = move_scanners(data)\n",
    "    i+=1\n",
    "    "
   ]
  },
  {
   "cell_type": "code",
   "execution_count": null,
   "metadata": {
    "collapsed": true
   },
   "outputs": [],
   "source": []
  }
 ],
 "metadata": {
  "kernelspec": {
   "display_name": "Python 3",
   "language": "python",
   "name": "python3"
  },
  "language_info": {
   "codemirror_mode": {
    "name": "ipython",
    "version": 3
   },
   "file_extension": ".py",
   "mimetype": "text/x-python",
   "name": "python",
   "nbconvert_exporter": "python",
   "pygments_lexer": "ipython3",
   "version": "3.6.0"
  }
 },
 "nbformat": 4,
 "nbformat_minor": 2
}
