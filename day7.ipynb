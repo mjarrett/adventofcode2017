{
 "cells": [
  {
   "cell_type": "markdown",
   "metadata": {},
   "source": [
    "# Part 1"
   ]
  },
  {
   "cell_type": "markdown",
   "metadata": {},
   "source": [
    "```\n",
    "Wandering further through the circuits of the computer, you come upon a tower of programs that have gotten themselves into a bit of trouble. A recursive algorithm has gotten out of hand, and now they're balanced precariously in a large tower.\n",
    "\n",
    "One program at the bottom supports the entire tower. It's holding a large disc, and on the disc are balanced several more sub-towers. At the bottom of these sub-towers, standing on the bottom disc, are other programs, each holding their own disc, and so on. At the very tops of these sub-sub-sub-...-towers, many programs stand simply keeping the disc below them balanced but with no disc of their own.\n",
    "\n",
    "You offer to help, but first you need to understand the structure of these towers. You ask each program to yell out their name, their weight, and (if they're holding a disc) the names of the programs immediately above them balancing on that disc. You write this information down (your puzzle input). Unfortunately, in their panic, they don't do this in an orderly fashion; by the time you're done, you're not sure which program gave which information.\n",
    "\n",
    "For example, if your list is the following:\n",
    "\n",
    "pbga (66)\n",
    "xhth (57)\n",
    "ebii (61)\n",
    "havc (66)\n",
    "ktlj (57)\n",
    "fwft (72) -> ktlj, cntj, xhth\n",
    "qoyq (66)\n",
    "padx (45) -> pbga, havc, qoyq\n",
    "tknk (41) -> ugml, padx, fwft\n",
    "jptl (61)\n",
    "ugml (68) -> gyxo, ebii, jptl\n",
    "gyxo (61)\n",
    "cntj (57)\n",
    "...then you would be able to recreate the structure of the towers that looks like this:\n",
    "\n",
    "                gyxo\n",
    "              /     \n",
    "         ugml - ebii\n",
    "       /      \\     \n",
    "      |         jptl\n",
    "      |        \n",
    "      |         pbga\n",
    "     /        /\n",
    "tknk --- padx - havc\n",
    "     \\        \\\n",
    "      |         qoyq\n",
    "      |             \n",
    "      |         ktlj\n",
    "       \\      /     \n",
    "         fwft - cntj\n",
    "              \\     \n",
    "                xhth\n",
    "In this example, tknk is at the bottom of the tower (the bottom program), and is holding up ugml, padx, and fwft. Those programs are, in turn, holding up other programs; in this example, none of those programs are holding up any other programs, and are all the tops of their own towers. (The actual tower balancing in front of you is much larger.)\n",
    "\n",
    "Before you're ready to help them, you need to make sure your information is correct. What is the name of the bottom program?\n",
    "                                                                                                                                                   ```"
   ]
  },
  {
   "cell_type": "code",
   "execution_count": 173,
   "metadata": {},
   "outputs": [],
   "source": [
    "# Read and clean data\n",
    "# \"stack\" is an adjency graph\n",
    "\n",
    "with open('day7.txt') as f:\n",
    "    data = f.readlines()\n",
    "\n",
    "data = [x.strip().split() for x in data]\n",
    "\n",
    "stack = {x[0]:[y.strip(',') for y in x[3:] ] for x in data}\n"
   ]
  },
  {
   "cell_type": "code",
   "execution_count": 174,
   "metadata": {},
   "outputs": [],
   "source": [
    "# Define a recursive depth-first search function\n",
    "\n",
    "def dfs(graph, vertex, path=[]):\n",
    "    path += [vertex]\n",
    "\n",
    "    for neighbor in graph[vertex]:\n",
    "        if neighbor not in path:\n",
    "            path = dfs(graph, neighbor, path)\n",
    "\n",
    "    return path"
   ]
  },
  {
   "cell_type": "code",
   "execution_count": 175,
   "metadata": {},
   "outputs": [],
   "source": [
    "#Run depth-first search from each node, print the longest path\n",
    "base = max([(len(dfs(stack,x,path=[])),x) for x in stack.keys()])[1]"
   ]
  },
  {
   "cell_type": "code",
   "execution_count": 176,
   "metadata": {},
   "outputs": [
    {
     "data": {
      "text/plain": [
       "'dgoocsw'"
      ]
     },
     "execution_count": 176,
     "metadata": {},
     "output_type": "execute_result"
    }
   ],
   "source": [
    "base"
   ]
  },
  {
   "cell_type": "markdown",
   "metadata": {},
   "source": [
    "# Part 2"
   ]
  },
  {
   "cell_type": "code",
   "execution_count": 177,
   "metadata": {},
   "outputs": [],
   "source": [
    "# Define a dictionary of the weight of each vertex\n",
    "weights = {x[0]:int(x[1].strip('()')) for x in data}"
   ]
  },
  {
   "cell_type": "code",
   "execution_count": 178,
   "metadata": {
    "collapsed": true
   },
   "outputs": [],
   "source": [
    "# function that returns total weight on top of each vertex\n",
    "\n",
    "def get_stack_weights(graph,vertex,weights):\n",
    "    return sum([weights[x] for x in dfs(graph,vertex,path=[])])\n",
    "    "
   ]
  },
  {
   "cell_type": "code",
   "execution_count": 179,
   "metadata": {
    "collapsed": true
   },
   "outputs": [],
   "source": [
    "# function that finds the unbalanced number in the list if it exists\n",
    "\n",
    "def find_different_number(a):\n",
    "\n",
    "    for i in range(len(a)):\n",
    "        s = list(set([x-a[i] for x in a[:i]+a[i+1:]] ))\n",
    "        if (len(s) == 1) and (s[0] != 0):\n",
    "            return i\n",
    "    return None\n",
    "        "
   ]
  },
  {
   "cell_type": "code",
   "execution_count": 182,
   "metadata": {
    "collapsed": true
   },
   "outputs": [],
   "source": [
    "# recursive function that continues up the tree along the\n",
    "# unbalanced route until it finds a balanced vertex\n",
    "# That is the vertex that must be fixed\n",
    "\n",
    "def search_tree(graph,vertex,weights):\n",
    "    ws = [get_stack_weights(graph,x,weights) for x in stack[vertex]]\n",
    "    #print(ws,[weights[x] for x in graph[vertex]],vertex)\n",
    "    unbalanced = find_different_number(ws)\n",
    "    #print(unbalanced)\n",
    "    if unbalanced is None:\n",
    "        return\n",
    "    else:\n",
    "        print(ws,[weights[x] for x in graph[vertex]],vertex)\n",
    "        search_tree(graph,graph[vertex][unbalanced],weights)\n",
    "        "
   ]
  },
  {
   "cell_type": "code",
   "execution_count": 183,
   "metadata": {},
   "outputs": [
    {
     "name": "stdout",
     "output_type": "stream",
     "text": [
      "[68393, 68401, 68393, 68393, 68393] [36753, 40973, 613, 57, 36632] dgoocsw\n",
      "[9140, 9140, 9148] [8363, 3808, 65] gqmls\n",
      "[1823, 1815, 1815, 1815, 1815] [1283, 184, 987, 15, 1284] jfdck\n"
     ]
    }
   ],
   "source": [
    "search_tree(stack,base,weights)"
   ]
  },
  {
   "cell_type": "markdown",
   "metadata": {},
   "source": [
    "First list tells us which stack to fix. Second list tells us how to fix it"
   ]
  },
  {
   "cell_type": "code",
   "execution_count": null,
   "metadata": {
    "collapsed": true
   },
   "outputs": [],
   "source": []
  }
 ],
 "metadata": {
  "kernelspec": {
   "display_name": "Python 3",
   "language": "python",
   "name": "python3"
  },
  "language_info": {
   "codemirror_mode": {
    "name": "ipython",
    "version": 3
   },
   "file_extension": ".py",
   "mimetype": "text/x-python",
   "name": "python",
   "nbconvert_exporter": "python",
   "pygments_lexer": "ipython3",
   "version": "3.6.0"
  }
 },
 "nbformat": 4,
 "nbformat_minor": 2
}
